{
  "metadata": {
    "language_info": {
      "codemirror_mode": {
        "name": "python",
        "version": 3
      },
      "file_extension": ".py",
      "mimetype": "text/x-python",
      "name": "python",
      "nbconvert_exporter": "python",
      "pygments_lexer": "ipython3",
      "version": "3.8"
    },
    "kernelspec": {
      "name": "python",
      "display_name": "Python (Pyodide)",
      "language": "python"
    }
  },
  "nbformat_minor": 4,
  "nbformat": 4,
  "cells": [
    {
      "cell_type": "code",
      "source": "import mysql.connector\nmydb=mysql.connector.connect(\n        host=\"local host\",\n        user=\"abc\",\n        password=\"password\"\n)\nmycursor=mydb.cursor()\nmycursor.execute(\"CREATE DATABASE if not exists Test\")\nmycursor.execute(\"CREATE TABLE customer(c1 INT, c2 FLOAT, C3 VARCHAR(30),C4 VARCHAR(40))\n                 # Cursor will fetch all element ne by one. \n                 #Execute will run the function declared like inser,delete,update",
      "metadata": {},
      "execution_count": null,
      "outputs": []
    }
  ]
}