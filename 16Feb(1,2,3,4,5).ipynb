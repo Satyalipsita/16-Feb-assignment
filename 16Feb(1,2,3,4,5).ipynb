{
  "metadata": {
    "language_info": {
      "codemirror_mode": {
        "name": "python",
        "version": 3
      },
      "file_extension": ".py",
      "mimetype": "text/x-python",
      "name": "python",
      "nbconvert_exporter": "python",
      "pygments_lexer": "ipython3",
      "version": "3.8"
    },
    "kernelspec": {
      "name": "python",
      "display_name": "Python (Pyodide)",
      "language": "python"
    }
  },
  "nbformat_minor": 4,
  "nbformat": 4,
  "cells": [
    {
      "cell_type": "code",
      "source": "#Q:1-SQL is the programming language used to interface with relational databases. (Relational databases model data as records in rows and tables with logical links between them). NoSQL is a class of DBMs that are non-relational and generally do not use SQL.",
      "metadata": {},
      "execution_count": null,
      "outputs": []
    },
    {
      "cell_type": "code",
      "source": "#Q:2-CREATE TABLE table_name\n(\ncolumn_1 datatype,\ncolumn_2 datatype,\ncolumn_3 datatype,\n....\n);\nALTER TABLE Student_info\nADD CGPA number;\nTRUNCATE TABLE Student_info;\n\n\nDDL is Data definition language used for creating,altering and truncxating according to requirment.",
      "metadata": {},
      "execution_count": null,
      "outputs": []
    },
    {
      "cell_type": "code",
      "source": "Q:3-\nINSERT INTO Tablename\n\nVALUES(\"7777777\", \"Smith\", \"John\", #7/17/1950#, \"Chemistry\");\n similarly Update,delete are used for updating and deleting record.So its is called as DML data modification language       \n       ",
      "metadata": {},
      "execution_count": null,
      "outputs": []
    },
    {
      "cell_type": "code",
      "source": "#Q:4-Data query Language is a part of sql used for querying the records from table.\nexample (select * from table name ) will fetch all record from the desired table.   \n       ",
      "metadata": {},
      "execution_count": null,
      "outputs": []
    },
    {
      "cell_type": "code",
      "source": "#Q:5-A relational database is designed to enforce the uniqueness of primary keys by allowing only one row with a given primary key value in a table.\nA foreign key is a column or a set of columns in a table whose values correspond to the values of the primary key in another table.\n\n       ",
      "metadata": {},
      "execution_count": null,
      "outputs": []
    },
    {
      "cell_type": "code",
      "source": "",
      "metadata": {},
      "execution_count": null,
      "outputs": []
    }
  ]
}